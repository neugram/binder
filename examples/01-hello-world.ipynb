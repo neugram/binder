{
 "cells": [
  {
   "cell_type": "code",
   "execution_count": 2,
   "metadata": {
    "collapsed": false
   },
   "outputs": [
    {
     "name": "stdout",
     "output_type": "stream",
     "text": [
      "hello world\n"
     ]
    },
    {
     "data": {},
     "execution_count": 2,
     "metadata": {},
     "output_type": "execute_result"
    }
   ],
   "source": [
    "msg := \"world\"\n",
    "printf(\"hello %s\\n\", msg)"
   ]
  },
  {
   "cell_type": "code",
   "execution_count": 5,
   "metadata": {
    "collapsed": false
   },
   "outputs": [
    {
     "name": "stdout",
     "output_type": "stream",
     "text": [
      "(func(string))(0x6910b0)\n",
      "say: \"boo\"\n",
      "say: \"hoo\"\n"
     ]
    },
    {
     "data": {},
     "execution_count": 5,
     "metadata": {},
     "output_type": "execute_result"
    }
   ],
   "source": [
    "func say(msg string) {\n",
    "    printf(\"say: %q\\n\", msg)\n",
    "}\n",
    "\n",
    "say(\"boo\")\n",
    "say(\"hoo\")"
   ]
  },
  {
   "cell_type": "code",
   "execution_count": 9,
   "metadata": {
    "collapsed": false
   },
   "outputs": [
    {
     "name": "stdout",
     "output_type": "stream",
     "text": [
      "goroutine launched !\n",
      "v = 42\n"
     ]
    },
    {
     "data": {},
     "execution_count": 9,
     "metadata": {},
     "output_type": "execute_result"
    }
   ],
   "source": [
    "ch := make(chan int)\n",
    "go func() { ch <- 42 }()\n",
    "print(\"goroutine launched !\")\n",
    "printf(\"v = %v\\n\", <-ch)"
   ]
  },
  {
   "cell_type": "code",
   "execution_count": 18,
   "metadata": {
    "collapsed": false
   },
   "outputs": [
    {
     "name": "stdout",
     "output_type": "stream",
     "text": [
      "v: 0\n",
      "v: 1\n",
      "v[0]: 2\n",
      "v[1]: 3\n",
      "v[2]: 4\n",
      "v[3]: 5\n",
      "v[4]: 6\n",
      "v[5]: 7\n",
      "v[6]: 8\n",
      "v[7]: 9\n",
      "v[8]: 10\n",
      "v[9]: 11\n",
      "done\n",
      "cleaning up...goroutine parked\n",
      "int(1)\n",
      "cleanup done\n"
     ]
    },
    {
     "data": {},
     "execution_count": 18,
     "metadata": {},
     "output_type": "execute_result"
    }
   ],
   "source": [
    "quit := make(chan int)\n",
    "pipe := make(chan int)\n",
    "go func() {\n",
    "    v := 0\n",
    "loop:\n",
    "    for {\n",
    "        select {\n",
    "        case <-quit:\n",
    "            printf(\"done\\ncleaning up...\")\n",
    "            break loop\n",
    "        case pipe <- v:\n",
    "            v++\n",
    "        }\n",
    "    }\n",
    "    print(\"goroutine parked\")\n",
    "    quit <- 1\n",
    "}()\n",
    "\n",
    "printf(\"v: %v\\n\", <-pipe)\n",
    "printf(\"v: %v\\n\", <-pipe)\n",
    "for i := 0; i < 10; i++ {\n",
    "    printf(\"v[%d]: %v\\n\", i, <-pipe)\n",
    "}\n",
    "quit <- 1\n",
    "<-quit\n",
    "printf(\"cleanup done\\n\")"
   ]
  }
 ],
 "metadata": {
  "kernelspec": {
   "display_name": "Neugram",
   "language": "neugram",
   "name": "neugram"
  },
  "language_info": {
   "codemirror_mode": "",
   "file_extension": ".ng",
   "mimetype": "",
   "name": "neugram",
   "nbconvert_exporter": "",
   "pygments_lexer": "",
   "version": "unreleased"
  }
 },
 "nbformat": 4,
 "nbformat_minor": 0
}
