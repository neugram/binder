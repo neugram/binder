{
 "cells": [
  {
   "cell_type": "code",
   "execution_count": null,
   "metadata": {},
   "outputs": [],
   "source": [
    "msg := \"world\"\n",
    "printf(\"hello %s\\n\", msg)"
   ]
  },
  {
   "cell_type": "code",
   "execution_count": null,
   "metadata": {},
   "outputs": [],
   "source": [
    "func say(msg string) {\n",
    "    printf(\"say: %q\\n\", msg)\n",
    "}\n",
    "\n",
    "say(\"boo\")\n",
    "say(\"hoo\")"
   ]
  },
  {
   "cell_type": "code",
   "execution_count": null,
   "metadata": {},
   "outputs": [],
   "source": [
    "ch := make(chan int)\n",
    "go func() { ch <- 42 }()\n",
    "print(\"goroutine launched !\")\n",
    "printf(\"v = %v\\n\", <-ch)"
   ]
  },
  {
   "cell_type": "code",
   "execution_count": null,
   "metadata": {},
   "outputs": [],
   "source": [
    "quit := make(chan int)\n",
    "pipe := make(chan int)\n",
    "go func() {\n",
    "    v := 0\n",
    "loop:\n",
    "    for {\n",
    "        select {\n",
    "        case <-quit:\n",
    "            printf(\"done\\ncleaning up...\")\n",
    "            break loop\n",
    "        case pipe <- v:\n",
    "            v++\n",
    "        }\n",
    "    }\n",
    "    print(\"goroutine parked\")\n",
    "    quit <- 1\n",
    "}()\n",
    "\n",
    "printf(\"v: %v\\n\", <-pipe)\n",
    "printf(\"v: %v\\n\", <-pipe)\n",
    "for i := 0; i < 10; i++ {\n",
    "    printf(\"v[%d]: %v\\n\", i, <-pipe)\n",
    "}\n",
    "quit <- 1\n",
    "<-quit\n",
    "printf(\"cleanup done\\n\")"
   ]
  }
 ],
 "metadata": {
  "kernelspec": {
   "display_name": "Neugram",
   "language": "neugram",
   "name": "neugram"
  },
  "language_info": {
   "codemirror_mode": "go",
   "file_extension": ".ng",
   "mimetype": "",
   "name": "neugram",
   "nbconvert_exporter": "",
   "pygments_lexer": "go",
   "version": "unreleased"
  }
 },
 "nbformat": 4,
 "nbformat_minor": 1
}
